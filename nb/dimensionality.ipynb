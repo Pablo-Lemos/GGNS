{
 "cells": [
  {
   "cell_type": "markdown",
   "id": "695715d0",
   "metadata": {
    "pycharm": {
     "name": "#%% md\n"
    }
   },
   "source": [
    "# Test of the algorithm on different dimensions"
   ]
  },
  {
   "cell_type": "code",
   "execution_count": 1,
   "id": "480d0b81",
   "metadata": {
    "pycharm": {
     "name": "#%%\n"
    }
   },
   "outputs": [
    {
     "name": "stderr",
     "output_type": "stream",
     "text": [
      "/Users/pablo/miniconda3/envs/gns/lib/python3.10/site-packages/tqdm/auto.py:22: TqdmWarning: IProgress not found. Please update jupyter and ipywidgets. See https://ipywidgets.readthedocs.io/en/stable/user_install.html\n",
      "  from .autonotebook import tqdm as notebook_tqdm\n"
     ]
    }
   ],
   "source": [
    "# Imports\n",
    "import numpy as np\n",
    "import torch\n",
    "from gradNS import Param, NestedSampler, EllipsoidalNS, SliceNS, DynamicNestedSampler, HamiltonianNS\n",
    "from getdist import plots, MCSamples\n",
    "import time\n",
    "\n",
    "# --- plotting --- \n",
    "import matplotlib as mpl\n",
    "import matplotlib.pyplot as plt\n",
    "#mpl.rcParams['text.usetex'] = True\n",
    "mpl.rcParams['font.family'] = 'serif'\n",
    "mpl.rcParams['font.size'] = 10\n",
    "mpl.rcParams['axes.linewidth'] = 1.5\n",
    "#mpl.rcParams['axes.xmargin'] = 1\n",
    "mpl.rcParams['xtick.labelsize'] = 'x-large'\n",
    "mpl.rcParams['xtick.major.size'] = 5\n",
    "mpl.rcParams['xtick.major.width'] = 1.5\n",
    "mpl.rcParams['ytick.labelsize'] = 'x-large'\n",
    "mpl.rcParams['ytick.major.size'] = 5\n",
    "mpl.rcParams['ytick.major.width'] = 1.5\n",
    "mpl.rcParams['legend.frameon'] = False"
   ]
  },
  {
   "cell_type": "code",
   "execution_count": 2,
   "id": "b6734adc",
   "metadata": {
    "pycharm": {
     "name": "#%%\n"
    }
   },
   "outputs": [],
   "source": [
    "def sample_gaussian(ndims = 2, sampler = 'nested', sigma=0.05):\n",
    "    #assert sampler in ['nested', 'multinest', 'polychord', 'gannest']\n",
    "    mvn = torch.distributions.MultivariateNormal(loc=torch.zeros(ndims),\n",
    "                                             scale_tril=torch.diag(\n",
    "                                                 torch.ones(ndims)))\n",
    "\n",
    "    \n",
    "    params = []\n",
    "    for i in range(ndims):\n",
    "        p = Param(\n",
    "                name=f'p{i}',\n",
    "                prior_type='Uniform',\n",
    "                prior=(-5, 5),\n",
    "                label=f'p_{i}')\n",
    "        params.append(p)\n",
    "        \n",
    "    if sampler == 'base':\n",
    "        ns = NestedSampler(\n",
    "            nlive=25 * ndims,\n",
    "            loglike=mvn.log_prob,\n",
    "            params=params,\n",
    "            clustering=False,\n",
    "            verbose=False)\n",
    "    elif sampler == 'ellipsoidal':\n",
    "        ns = EllipsoidalNS(\n",
    "            nlive=25 * ndims,\n",
    "            loglike=mvn.log_prob,\n",
    "            params=params,\n",
    "            eff=0.1,\n",
    "            clustering=False,\n",
    "            verbose=False)\n",
    "    elif sampler == 'slice':\n",
    "        ns = SliceNS(\n",
    "            nlive=25 * ndims,\n",
    "            loglike=mvn.log_prob,\n",
    "            params=params,\n",
    "            clustering=False,\n",
    "            verbose=False)\n",
    "    elif sampler == 'dynamic':\n",
    "        ns = DynamicNestedSampler(\n",
    "                    nlive=25 * ndims,\n",
    "                    loglike=mvn.log_prob,\n",
    "                    params=params,\n",
    "                    clustering=True,\n",
    "                    verbose=False)\n",
    "    elif sampler == 'hamiltonian':\n",
    "        ns = HamiltonianNS(\n",
    "            nlive=200, \n",
    "            loglike=mvn.log_prob,\n",
    "            params=params,\n",
    "            tol=1e-2,\n",
    "            min_reflections=3, \n",
    "            max_reflections=5,\n",
    "            sigma_vel=sigma,\n",
    "            #dt_ini=0.05,\n",
    "            clustering=False,\n",
    "            verbose=False)\n",
    "        \n",
    "    ns.run()\n",
    "    an_samples = ns.convert_to_anesthetic()\n",
    "    lZ = an_samples.logZ(nsamples=100)\n",
    "    return ns.get_mean_logZ(), ns.get_var_logZ()**0.5, ns.get_like_evals()"
   ]
  },
  {
   "cell_type": "code",
   "execution_count": 3,
   "id": "f6722a2a",
   "metadata": {
    "pycharm": {
     "name": "#%%\n"
    }
   },
   "outputs": [
    {
     "name": "stdout",
     "output_type": "stream",
     "text": [
      "D = 4, logZ = -9.2103\n",
      "logZ = -9.1852 +/- 0.1540, like_evals = 50254, time = 3.5951\n",
      "D = 8, logZ = -18.4207\n",
      "logZ = -18.5326 +/- 0.2369, like_evals = 68175, time = 4.8137\n",
      "D = 16, logZ = -36.8414\n",
      "logZ = -37.4207 +/- 0.6445, like_evals = 99767, time = 7.5970\n",
      "D = 32, logZ = -73.6827\n",
      "logZ = -75.2602 +/- 0.8754, like_evals = 145964, time = 13.1720\n",
      "D = 64, logZ = -147.3654\n",
      "logZ = -150.7174 +/- 1.4082, like_evals = 240022, time = 28.4449\n",
      "D = 128, logZ = -294.7309\n",
      "logZ = -307.4919 +/- 3.0639, like_evals = 433233, time = 63.1858\n"
     ]
    }
   ],
   "source": [
    "dims = [4, 8, 16, 32, 64, 128]\n",
    "logZ_true = np.zeros_like(dims, dtype=np.float32)\n",
    "\n",
    "logZ = np.zeros_like(dims, dtype=np.float32)\n",
    "err_logZ = np.zeros_like(dims, dtype=np.float32)\n",
    "like_evals = np.zeros_like(dims, dtype=np.int32)\n",
    "\n",
    "times = np.zeros_like(dims, dtype=np.float32)\n",
    "\n",
    "num_repeats = 10\n",
    "\n",
    "for i, d in enumerate(dims): \n",
    "    logZ_true[i] = np.log(1 / 10.**d)\n",
    "    print(f\"D = {d}, logZ = {logZ_true[i]:.4f}\")\n",
    "    \n",
    "    logZ_local = np.zeros(num_repeats, dtype=np.float32)\n",
    "    err_logZ_local = np.zeros(num_repeats, dtype=np.float32)\n",
    "    like_evals_local = np.zeros(num_repeats, dtype=np.int32)\n",
    "    times_local = np.zeros(num_repeats, dtype=np.float32)\n",
    "    for j in range(num_repeats):\n",
    "        start_time = time.time()\n",
    "        logZ_local[j], err_logZ_local[j], like_evals_local[j] = sample_gaussian(ndims = d, sampler = 'hamiltonian')\n",
    "        times_local[j] = time.time() - start_time\n",
    "        \n",
    "    logZ[i] = np.mean(logZ_local)\n",
    "    err_propagated = np.sqrt(np.sum(err_logZ_local**2))/len(err_logZ_local)\n",
    "    err_logZ[i] = np.sqrt(err_propagated**2 + np.std(logZ_local)**2)\n",
    "    like_evals[i] = np.mean(like_evals_local)\n",
    "    times[i] = np.mean(times_local)\n",
    "    \n",
    "    print(f\"logZ = {logZ[i]:.4f} +/- {err_logZ[i]:.4f}, like_evals = {like_evals[i]}, time = {times[i]:.4f}\")"
   ]
  },
  {
   "cell_type": "code",
   "execution_count": 4,
   "id": "cd5ce9e0",
   "metadata": {
    "pycharm": {
     "name": "#%%\n"
    }
   },
   "outputs": [
    {
     "data": {
      "text/plain": [
       "<matplotlib.legend.Legend at 0x29d426d10>"
      ]
     },
     "execution_count": 4,
     "metadata": {},
     "output_type": "execute_result"
    },
    {
     "data": {
      "image/png": "[encoded data removed]",
      "text/plain": [
       "<Figure size 472.441x236.22 with 1 Axes>"
      ]
     },
     "metadata": {},
     "output_type": "display_data"
    }
   ],
   "source": [
    "x_size=12\n",
    "y_size=6\n",
    "fontsize = 14\n",
    "fig, ax = plt.subplots(figsize=(x_size/2.54,y_size/2.54))\n",
    "ax.errorbar(dims, logZ - logZ_true, yerr=err_logZ, fmt='x', label='GGNS')\n",
    "ax.axhline(0, ls='--', color='k')\n",
    "ax.set_xscale('log')\n",
    "ax.set_xlabel(\"# of Dimensions\", fontsize=fontsize)\n",
    "ax.set_ylabel(r\"$ \\log Z$\", fontsize=fontsize)\n",
    "ax.set_xticks(dims)\n",
    "ax.set_xticklabels(np.array(dims, dtype='str'), fontsize=fontsize)\n",
    "plt.legend(fontsize=fontsize)"
   ]
  },
  {
   "cell_type": "code",
   "execution_count": 5,
   "id": "0b2e0772",
   "metadata": {
    "pycharm": {
     "name": "#%%\n"
    }
   },
   "outputs": [
    {
     "data": {
      "text/plain": [
       "<matplotlib.legend.Legend at 0x29d4340d0>"
      ]
     },
     "execution_count": 5,
     "metadata": {},
     "output_type": "execute_result"
    },
    {
     "data": {
      "image/png": "[encoded data removed]",
      "text/plain": [
       "<Figure size 472.441x236.22 with 1 Axes>"
      ]
     },
     "metadata": {},
     "output_type": "display_data"
    }
   ],
   "source": [
    "x_size=12\n",
    "y_size=6\n",
    "fontsize = 14\n",
    "fig, ax = plt.subplots(figsize=(x_size/2.54,y_size/2.54))\n",
    "ax.errorbar(dims, like_evals, fmt='x', label='GGNS')\n",
    "ax.axhline(0, ls='--', color='k')\n",
    "ax.set_xscale('log')\n",
    "ax.set_yscale('log')\n",
    "ax.set_xlabel(\"# of Dimensions\", fontsize=fontsize)\n",
    "ax.set_ylabel(r\"# of Likelihood Evaluations\", fontsize=fontsize)\n",
    "ax.set_xticks(dims)\n",
    "ax.set_xticklabels(np.array(dims, dtype='str'), fontsize=fontsize)\n",
    "plt.legend(fontsize=fontsize)"
   ]
  },
  {
   "cell_type": "code",
   "execution_count": 6,
   "id": "b7f9adc2",
   "metadata": {
    "pycharm": {
     "name": "#%%\n"
    }
   },
   "outputs": [],
   "source": [
    "lz = np.stack([dims, logZ, err_logZ, like_evals, times], axis=1)\n",
    "np.save('/Users/pablo/Code/GradNS_dev/nb/data/hamiltonian_logZ_nsteps20_v2', lz)"
   ]
  },
  {
   "cell_type": "code",
   "execution_count": 7,
   "id": "b33b82d7",
   "metadata": {
    "pycharm": {
     "name": "#%%\n"
    }
   },
   "outputs": [],
   "source": [
    "data = np.load('/Users/pablo/Code/GradNS_dev/nb/data/hamiltonian_logZ_v4.npy')\n",
    "dims2, logZ2, err_logZ2, like_evals2, times2 = data[:,0], data[:,1], data[:,2], data[:,3], data[:,4]"
   ]
  },
  {
   "cell_type": "code",
   "execution_count": 8,
   "id": "aa877bd1",
   "metadata": {
    "pycharm": {
     "name": "#%%\n"
    }
   },
   "outputs": [
    {
     "data": {
      "text/plain": [
       "<matplotlib.legend.Legend at 0x2c19c13c0>"
      ]
     },
     "execution_count": 8,
     "metadata": {},
     "output_type": "execute_result"
    },
    {
     "data": {
      "image/png": "[encoded data removed]",
      "text/plain": [
       "<Figure size 472.441x236.22 with 1 Axes>"
      ]
     },
     "metadata": {},
     "output_type": "display_data"
    }
   ],
   "source": [
    "x_size=12\n",
    "y_size=6\n",
    "fontsize = 14\n",
    "fig, ax = plt.subplots(figsize=(x_size/2.54,y_size/2.54))\n",
    "ax.errorbar(dims, like_evals, fmt='x', label='New')\n",
    "ax.errorbar(dims2, like_evals2, fmt='x', label='Old')\n",
    "ax.axhline(0, ls='--', color='k')\n",
    "ax.set_xscale('log')\n",
    "ax.set_yscale('log')\n",
    "ax.set_ylim([1e5, 1e7])\n",
    "ax.set_xlabel(\"# of Dimensions\", fontsize=fontsize)\n",
    "ax.set_ylabel(r\"# of Likelihood Evaluations\", fontsize=fontsize)\n",
    "ax.set_xticks(dims)\n",
    "ax.set_xticklabels(np.array(dims, dtype='str'), fontsize=fontsize)\n",
    "plt.legend(fontsize=fontsize)"
   ]
  },
  {
   "cell_type": "code",
   "execution_count": 9,
   "id": "1a5eea3b",
   "metadata": {
    "pycharm": {
     "name": "#%%\n"
    }
   },
   "outputs": [
    {
     "data": {
      "text/plain": [
       "array([ 50254,  68175,  99767, 145964, 240022, 433233], dtype=int32)"
      ]
     },
     "execution_count": 9,
     "metadata": {},
     "output_type": "execute_result"
    }
   ],
   "source": [
    "like_evals"
   ]
  },
  {
   "cell_type": "code",
   "execution_count": 10,
   "id": "24947ca1",
   "metadata": {
    "pycharm": {
     "name": "#%%\n"
    }
   },
   "outputs": [
    {
     "ename": "ValueError",
     "evalue": "operands could not be broadcast together with shapes (5,) (6,) ",
     "output_type": "error",
     "traceback": [
      "\u001B[0;31m---------------------------------------------------------------------------\u001B[0m",
      "\u001B[0;31mValueError\u001B[0m                                Traceback (most recent call last)",
      "Input \u001B[0;32mIn [10]\u001B[0m, in \u001B[0;36m<cell line: 6>\u001B[0;34m()\u001B[0m\n\u001B[1;32m      4\u001B[0m fig, ax \u001B[38;5;241m=\u001B[39m plt\u001B[38;5;241m.\u001B[39msubplots(figsize\u001B[38;5;241m=\u001B[39m(x_size\u001B[38;5;241m/\u001B[39m\u001B[38;5;241m2.54\u001B[39m,y_size\u001B[38;5;241m/\u001B[39m\u001B[38;5;241m2.54\u001B[39m))\n\u001B[1;32m      5\u001B[0m ax\u001B[38;5;241m.\u001B[39merrorbar(dims, logZ \u001B[38;5;241m-\u001B[39m logZ_true, yerr\u001B[38;5;241m=\u001B[39merr_logZ, fmt\u001B[38;5;241m=\u001B[39m\u001B[38;5;124m'\u001B[39m\u001B[38;5;124mx\u001B[39m\u001B[38;5;124m'\u001B[39m, label\u001B[38;5;241m=\u001B[39m\u001B[38;5;124m'\u001B[39m\u001B[38;5;124mNew\u001B[39m\u001B[38;5;124m'\u001B[39m)\n\u001B[0;32m----> 6\u001B[0m ax\u001B[38;5;241m.\u001B[39merrorbar(dims2[:\u001B[38;5;241m-\u001B[39m\u001B[38;5;241m1\u001B[39m]\u001B[38;5;241m*\u001B[39m\u001B[38;5;241m1.1\u001B[39m, \u001B[43mlogZ2\u001B[49m\u001B[43m[\u001B[49m\u001B[43m:\u001B[49m\u001B[38;5;241;43m-\u001B[39;49m\u001B[38;5;241;43m1\u001B[39;49m\u001B[43m]\u001B[49m\u001B[43m \u001B[49m\u001B[38;5;241;43m-\u001B[39;49m\u001B[43m \u001B[49m\u001B[43mlogZ_true\u001B[49m, yerr\u001B[38;5;241m=\u001B[39merr_logZ2[:\u001B[38;5;241m-\u001B[39m\u001B[38;5;241m1\u001B[39m], fmt\u001B[38;5;241m=\u001B[39m\u001B[38;5;124m'\u001B[39m\u001B[38;5;124mx\u001B[39m\u001B[38;5;124m'\u001B[39m, label\u001B[38;5;241m=\u001B[39m\u001B[38;5;124m'\u001B[39m\u001B[38;5;124mOld\u001B[39m\u001B[38;5;124m'\u001B[39m)\n\u001B[1;32m      7\u001B[0m ax\u001B[38;5;241m.\u001B[39maxhline(\u001B[38;5;241m0\u001B[39m, ls\u001B[38;5;241m=\u001B[39m\u001B[38;5;124m'\u001B[39m\u001B[38;5;124m--\u001B[39m\u001B[38;5;124m'\u001B[39m, color\u001B[38;5;241m=\u001B[39m\u001B[38;5;124m'\u001B[39m\u001B[38;5;124mk\u001B[39m\u001B[38;5;124m'\u001B[39m)\n\u001B[1;32m      8\u001B[0m ax\u001B[38;5;241m.\u001B[39mset_xscale(\u001B[38;5;124m'\u001B[39m\u001B[38;5;124mlog\u001B[39m\u001B[38;5;124m'\u001B[39m)\n",
      "\u001B[0;31mValueError\u001B[0m: operands could not be broadcast together with shapes (5,) (6,) "
     ]
    },
    {
     "data": {
      "image/png": "[encoded data removed]",
      "text/plain": [
       "<Figure size 472.441x236.22 with 1 Axes>"
      ]
     },
     "metadata": {},
     "output_type": "display_data"
    }
   ],
   "source": [
    "x_size=12\n",
    "y_size=6\n",
    "fontsize = 14\n",
    "fig, ax = plt.subplots(figsize=(x_size/2.54,y_size/2.54))\n",
    "ax.errorbar(dims, logZ - logZ_true, yerr=err_logZ, fmt='x', label='New')\n",
    "ax.errorbar(dims2[:-1]*1.1, logZ2[:-1] - logZ_true, yerr=err_logZ2[:-1], fmt='x', label='Old')\n",
    "ax.axhline(0, ls='--', color='k')\n",
    "ax.set_xscale('log')\n",
    "ax.set_xlabel(\"# of Dimensions\", fontsize=fontsize)\n",
    "ax.set_ylabel(r\"$ \\log Z$\", fontsize=fontsize)\n",
    "ax.set_xticks(dims)\n",
    "ax.set_xticklabels(np.array(dims, dtype='str'), fontsize=fontsize)\n",
    "plt.legend(fontsize=fontsize)"
   ]
  },
  {
   "cell_type": "code",
   "execution_count": null,
   "id": "daa68a15",
   "metadata": {
    "pycharm": {
     "name": "#%%\n"
    }
   },
   "outputs": [],
   "source": [
    "!ls /Users/pablo/Code/GradNS_dev/nb/data/hamiltonian_logZ_*"
   ]
  },
  {
   "cell_type": "code",
   "execution_count": null,
   "id": "2eb9e4d2",
   "metadata": {
    "pycharm": {
     "name": "#%%\n"
    }
   },
   "outputs": [],
   "source": []
  }
 ],
 "metadata": {
  "kernelspec": {
   "display_name": "Python [conda env:gns]",
   "language": "python",
   "name": "conda-env-gns-py"
  },
  "language_info": {
   "codemirror_mode": {
    "name": "ipython",
    "version": 3
   },
   "file_extension": ".py",
   "mimetype": "text/x-python",
   "name": "python",
   "nbconvert_exporter": "python",
   "pygments_lexer": "ipython3",
   "version": "3.10.4"
  }
 },
 "nbformat": 4,
 "nbformat_minor": 5
}